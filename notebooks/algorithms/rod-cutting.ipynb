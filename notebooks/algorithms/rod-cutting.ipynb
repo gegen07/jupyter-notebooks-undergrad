{
 "metadata": {
  "language_info": {
   "codemirror_mode": {
    "name": "ipython",
    "version": 3
   },
   "file_extension": ".py",
   "mimetype": "text/x-python",
   "name": "python",
   "nbconvert_exporter": "python",
   "pygments_lexer": "ipython3",
   "version": "3.8.5"
  },
  "orig_nbformat": 2,
  "kernelspec": {
   "name": "python385jvsc74a57bd0a5b5b3e75c91bd844925b6e859b6140925f53eee5b5765b0c51d9eaac27ea1ef",
   "display_name": "Python 3.8.5 64-bit ('base': conda)"
  }
 },
 "nbformat": 4,
 "nbformat_minor": 2,
 "cells": [
  {
   "cell_type": "code",
   "execution_count": 15,
   "metadata": {},
   "outputs": [],
   "source": [
    "import math\n",
    "import time"
   ]
  },
  {
   "cell_type": "code",
   "execution_count": 16,
   "metadata": {},
   "outputs": [],
   "source": [
    "def cut_rod_naive(price, n):\n",
    "    if n==0:\n",
    "        return 0;\n",
    "    q = -math.inf\n",
    "    for i in range(1, n):\n",
    "        q = max(q, price[i]+cut_rod_naive(price, n-i-1))\n",
    "    return q\n"
   ]
  },
  {
   "cell_type": "code",
   "execution_count": 27,
   "metadata": {},
   "outputs": [
    {
     "output_type": "stream",
     "name": "stdout",
     "text": [
      "0.00021338462829589844\n30\n"
     ]
    }
   ],
   "source": [
    "prices = [1, 5, 8, 9, 10, 17, 17, 20, 24, 30]\n",
    "start = time.time()\n",
    "result=cut_rod_naive(prices, len(prices))\n",
    "end = time.time()\n",
    "print(end-start)\n",
    "print(result)"
   ]
  },
  {
   "cell_type": "code",
   "execution_count": 28,
   "metadata": {},
   "outputs": [],
   "source": [
    "import math\n",
    "def cut_rod_memoized(price, n, memo):\n",
    "    if memo[n] >= 0:\n",
    "        return memo[n]\n",
    "    if n==0:\n",
    "        q=0\n",
    "    else:\n",
    "        q = -math.inf\n",
    "        for i in range(0, n):\n",
    "            q = max(q, price[i]+cut_rod_memoized(price, n-i-1, memo));\n",
    "    memo[n] = q\n",
    "    return q"
   ]
  },
  {
   "cell_type": "code",
   "execution_count": 29,
   "metadata": {},
   "outputs": [
    {
     "output_type": "stream",
     "name": "stdout",
     "text": [
      "0.00017762184143066406\n30\n"
     ]
    }
   ],
   "source": [
    "start = time.time()\n",
    "prices = [1, 5, 8, 9, 10, 17, 17, 20, 24, 30]\n",
    "memo = [-math.inf for i in range(0, len(prices)+1)]\n",
    "start = time.time()\n",
    "result = cut_rod_memoized(prices, len(prices), memo)\n",
    "end = time.time()\n",
    "print(end-start)\n",
    "print(result)"
   ]
  },
  {
   "cell_type": "code",
   "execution_count": 30,
   "metadata": {},
   "outputs": [],
   "source": [
    "def bottom_up_cut_rod(price, n):\n",
    "    memo = [0 for i in range(n+1)]\n",
    "    memo[0] = 0\n",
    "\n",
    "    for j in range(1, n+1):\n",
    "        q = -math.inf\n",
    "        for k in range(0, j):\n",
    "            q = max(q, price[k]+memo[j-k-1])\n",
    "        memo[j] = q\n",
    "    return memo[n]"
   ]
  },
  {
   "cell_type": "code",
   "execution_count": 49,
   "metadata": {},
   "outputs": [
    {
     "output_type": "stream",
     "name": "stdout",
     "text": [
      "0.00015664100646972656\n30\n"
     ]
    }
   ],
   "source": [
    "prices = [1, 5, 8, 9, 10, 17, 17, 20, 24, 30]\n",
    "start = time.time()\n",
    "result = bottom_up_cut_rod(prices, len(prices))\n",
    "end = time.time()\n",
    "print(end-start)\n",
    "print(result)"
   ]
  }
 ]
}